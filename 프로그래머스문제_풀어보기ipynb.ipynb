{
  "nbformat": 4,
  "nbformat_minor": 0,
  "metadata": {
    "colab": {
      "provenance": []
    },
    "kernelspec": {
      "name": "python3",
      "display_name": "Python 3"
    },
    "language_info": {
      "name": "python"
    }
  },
  "cells": [
    {
      "cell_type": "code",
      "execution_count": 8,
      "metadata": {
        "id": "o6NL0cQmYQeu"
      },
      "outputs": [],
      "source": [
        "def solution(numbers):\n",
        "    numbers.sort()\n",
        "\n",
        "    return max(numbers[0] * numbers[1], numbers[-1] * numbers[-2])"
      ]
    },
    {
      "cell_type": "code",
      "source": [
        "solution([1, 2, -3, 4, -5])"
      ],
      "metadata": {
        "colab": {
          "base_uri": "https://localhost:8080/"
        },
        "id": "fU2NHUZnYSHA",
        "outputId": "d37443a6-b4be-4ba3-cae5-a05692ec88d9"
      },
      "execution_count": 9,
      "outputs": [
        {
          "output_type": "execute_result",
          "data": {
            "text/plain": [
              "[-5, -3, 1, 2, 4]"
            ]
          },
          "metadata": {},
          "execution_count": 9
        }
      ]
    },
    {
      "cell_type": "code",
      "source": [
        "solution([0, -31, 24, 10, 1, 9])"
      ],
      "metadata": {
        "colab": {
          "base_uri": "https://localhost:8080/"
        },
        "id": "KOxHEsWLYwgA",
        "outputId": "9edc277a-7da0-454c-cd60-922f7f48cc8c"
      },
      "execution_count": 10,
      "outputs": [
        {
          "output_type": "execute_result",
          "data": {
            "text/plain": [
              "[-31, 0, 1, 9, 10, 24]"
            ]
          },
          "metadata": {},
          "execution_count": 10
        }
      ]
    },
    {
      "cell_type": "code",
      "source": [
        "def solution(array):\n",
        "    answer = []\n",
        "    max_num = max(array)\n",
        "    answer.append(max_num)\n",
        "    answer.append(array.index(max_num))\n",
        "    return answer"
      ],
      "metadata": {
        "id": "oZloQbzeeQTR"
      },
      "execution_count": null,
      "outputs": []
    },
    {
      "cell_type": "code",
      "source": [
        "def solution(array):\n",
        "\n",
        "    return [max(array), array.index(max(array))]"
      ],
      "metadata": {
        "id": "aGwSLotmeQxy"
      },
      "execution_count": 11,
      "outputs": []
    },
    {
      "cell_type": "code",
      "source": [
        "solution([[1, 8, 3]])\n",
        "solution()"
      ],
      "metadata": {
        "colab": {
          "base_uri": "https://localhost:8080/"
        },
        "id": "jkjITJy6ed1I",
        "outputId": "a02e82ef-8e16-4fd1-e7cb-f188727c4f42"
      },
      "execution_count": 12,
      "outputs": [
        {
          "output_type": "execute_result",
          "data": {
            "text/plain": [
              "[[1, 8, 3], 0]"
            ]
          },
          "metadata": {},
          "execution_count": 12
        }
      ]
    },
    {
      "cell_type": "code",
      "source": [
        "def solution(box, n):\n",
        "    a = box[0] // n\n",
        "    b = box[1] // n\n",
        "    c = box[2] // n\n",
        "\n",
        "    return a*b*c\n",
        ""
      ],
      "metadata": {
        "id": "f9KEdXFljmhq"
      },
      "execution_count": null,
      "outputs": []
    },
    {
      "cell_type": "code",
      "source": [
        "def solution(box, n):\n",
        "    answer = 1\n",
        "\n",
        "    for x in box:\n",
        "        answer *= x //n\n",
        "\n",
        "    return answer\n",
        "\n",
        "\n"
      ],
      "metadata": {
        "id": "rDvdM-P2gd2I"
      },
      "execution_count": 15,
      "outputs": []
    }
  ]
}