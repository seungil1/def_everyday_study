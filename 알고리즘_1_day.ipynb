{
  "nbformat": 4,
  "nbformat_minor": 0,
  "metadata": {
    "colab": {
      "provenance": []
    },
    "kernelspec": {
      "name": "python3",
      "display_name": "Python 3"
    },
    "language_info": {
      "name": "python"
    }
  },
  "cells": [
    {
      "cell_type": "markdown",
      "source": [
        "# 절댓값 구하기 알고리즘"
      ],
      "metadata": {
        "id": "BxaTOzu2K8Ho"
      }
    },
    {
      "cell_type": "code",
      "source": [
        "import math # 수학 모듈 사용\n",
        "\n",
        "def abs_sign(a):\n",
        "\n",
        "    if a >= 0:\n",
        "        return a\n",
        "\n",
        "    else:\n",
        "        return -a\n",
        "\n",
        "\n",
        "# 절댓값 알고리즘 2(제곱-제곱근)\n",
        "# 입력 : 실수 a\n",
        "# 출력 : a의 절대값\n",
        "\n",
        "\n",
        "def abs_square(a):\n",
        "    b = a * a\n",
        "\n",
        "    return int(math.sqrt(b))\n",
        "\n",
        "\n",
        "abs_sign(-3)\n",
        "\n",
        "abs_square(3)"
      ],
      "metadata": {
        "colab": {
          "base_uri": "https://localhost:8080/"
        },
        "id": "WcpyVWcDLAqO",
        "outputId": "b9db07c8-d91c-4c4f-d339-16d72ca6590f"
      },
      "execution_count": 7,
      "outputs": [
        {
          "output_type": "execute_result",
          "data": {
            "text/plain": [
              "3"
            ]
          },
          "metadata": {},
          "execution_count": 7
        }
      ]
    },
    {
      "cell_type": "markdown",
      "source": [
        "# 1 부터 n 까지의 합을 구하는 알고리즘을 만들어보자"
      ],
      "metadata": {
        "id": "NTpzpZOjM0Ee"
      }
    },
    {
      "cell_type": "code",
      "source": [
        "def total(a):\n",
        "    return sum(range(1,a+1))\n",
        "\n",
        "\n",
        "total(1000)"
      ],
      "metadata": {
        "colab": {
          "base_uri": "https://localhost:8080/"
        },
        "id": "RM2NEVHoM59V",
        "outputId": "2095c9be-b220-42a1-fc87-647befe86537"
      },
      "execution_count": 14,
      "outputs": [
        {
          "output_type": "execute_result",
          "data": {
            "text/plain": [
              "500500"
            ]
          },
          "metadata": {},
          "execution_count": 14
        }
      ]
    },
    {
      "cell_type": "code",
      "source": [
        "def sum_n(n):\n",
        "    return n * (n + 1) // 2\n",
        "\n",
        "sum_n(1000)"
      ],
      "metadata": {
        "colab": {
          "base_uri": "https://localhost:8080/"
        },
        "id": "mTfaK5h_ONFN",
        "outputId": "65a5db8a-5a44-46ea-af07-23fb342593a3"
      },
      "execution_count": 13,
      "outputs": [
        {
          "output_type": "execute_result",
          "data": {
            "text/plain": [
              "500500"
            ]
          },
          "metadata": {},
          "execution_count": 13
        }
      ]
    }
  ]
}