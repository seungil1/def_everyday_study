{
  "nbformat": 4,
  "nbformat_minor": 0,
  "metadata": {
    "colab": {
      "provenance": []
    },
    "kernelspec": {
      "name": "python3",
      "display_name": "Python 3"
    },
    "language_info": {
      "name": "python"
    }
  },
  "cells": [
    {
      "cell_type": "markdown",
      "source": [
        "## Q7"
      ],
      "metadata": {
        "id": "QJ0tGOBmVtxv"
      }
    },
    {
      "cell_type": "code",
      "source": [
        "\n",
        "# 추출할때는 맵함수 사용\n",
        "def solution(l):\n",
        "    return list(map(lambda x : x[0],sorted(l, key =lambda x : x[1])))"
      ],
      "metadata": {
        "id": "4V-50vjMQ3fI"
      },
      "execution_count": 27,
      "outputs": []
    },
    {
      "cell_type": "code",
      "source": [
        "solution([['A', 3], ['B', 1], ['C', 2]])"
      ],
      "metadata": {
        "colab": {
          "base_uri": "https://localhost:8080/"
        },
        "id": "d7XFjCX_VbPf",
        "outputId": "38ee3fcd-0382-4af7-def9-0f0cb5c045f9"
      },
      "execution_count": 30,
      "outputs": [
        {
          "output_type": "execute_result",
          "data": {
            "text/plain": [
              "['B', 'C', 'A']"
            ]
          },
          "metadata": {},
          "execution_count": 30
        }
      ]
    },
    {
      "cell_type": "markdown",
      "source": [
        "## Q8"
      ],
      "metadata": {
        "id": "EfIMQviiVv_-"
      }
    },
    {
      "cell_type": "code",
      "source": [
        "def soulution(data):\n",
        "    result = -float('inf')\n",
        "    for i in data:\n",
        "        if i > result:\n",
        "            result = i\n",
        "\n",
        "    return result"
      ],
      "metadata": {
        "id": "8sSOum25VyyO"
      },
      "execution_count": 40,
      "outputs": []
    },
    {
      "cell_type": "code",
      "source": [
        "soulution([1, 2, 3, 4, 5])"
      ],
      "metadata": {
        "colab": {
          "base_uri": "https://localhost:8080/"
        },
        "id": "EpKsiiutXJtW",
        "outputId": "61cd9db2-5aea-4510-9435-a919c48e09df"
      },
      "execution_count": 41,
      "outputs": [
        {
          "output_type": "execute_result",
          "data": {
            "text/plain": [
              "5"
            ]
          },
          "metadata": {},
          "execution_count": 41
        }
      ]
    },
    {
      "cell_type": "code",
      "source": [
        "# zip 함수는 두 리스트 중 길이가 더 짧은 리스트의 길이에 맞추어서 튜플을 생성\n",
        "\n",
        "\n",
        "data = [1, 3, 4, 6]\n",
        "\n",
        "# 여기서 reverse = True 했을때 최대값\n",
        "list(sorted(zip(data,data[1:]),key = lambda x : x[1] - x[0])[0])"
      ],
      "metadata": {
        "colab": {
          "base_uri": "https://localhost:8080/"
        },
        "id": "RARiD9GbY9UV",
        "outputId": "2d317d4e-af17-44b4-9eb0-a3268bc1d8c5"
      },
      "execution_count": 56,
      "outputs": [
        {
          "output_type": "execute_result",
          "data": {
            "text/plain": [
              "[3, 4]"
            ]
          },
          "metadata": {},
          "execution_count": 56
        }
      ]
    },
    {
      "cell_type": "markdown",
      "source": [
        "# Q10"
      ],
      "metadata": {
        "id": "XPXHxXQjzawL"
      }
    },
    {
      "cell_type": "code",
      "source": [
        "def soulution(data):\n",
        "    return sorted(data, key = lambda x : x['수'],reverse=True)[0]['이름']"
      ],
      "metadata": {
        "id": "AgriDqaC2CFr"
      },
      "execution_count": 103,
      "outputs": []
    },
    {
      "cell_type": "code",
      "source": [
        "soulution([{'이름': 'A', '국': 30, '영': 20, '수': 85}, {'이름': 'B', '국': 95, '영': 98, '수': 10}])\n"
      ],
      "metadata": {
        "colab": {
          "base_uri": "https://localhost:8080/",
          "height": 35
        },
        "id": "g8dDLx9r2LsJ",
        "outputId": "2eb2e3ba-2ac9-424d-8639-66b5c8935ba7"
      },
      "execution_count": 102,
      "outputs": [
        {
          "output_type": "execute_result",
          "data": {
            "text/plain": [
              "'A'"
            ],
            "application/vnd.google.colaboratory.intrinsic+json": {
              "type": "string"
            }
          },
          "metadata": {},
          "execution_count": 102
        }
      ]
    },
    {
      "cell_type": "code",
      "source": [
        "[['Licat', 98, 92, 85, 97], ['Mura', 95, 32, 51, 30], ['Binky', 98, 98, 51, 32]]"
      ],
      "metadata": {
        "id": "8vJ67HKPCCj1"
      },
      "execution_count": null,
      "outputs": []
    },
    {
      "cell_type": "code",
      "source": [
        "def soulution(data):\n",
        "    return sorted(map(lambda x:x[0],filter(lambda x : sum(x[1:])>350,data)))\n",
        "\n",
        ""
      ],
      "metadata": {
        "id": "rDTOqN8rCFgu"
      },
      "execution_count": 178,
      "outputs": []
    },
    {
      "cell_type": "code",
      "source": [
        "soulution([['Licat', 98, 92, 85, 97], ['Mura', 95, 32, 51, 30], ['Binky', 98, 98, 51, 32]])"
      ],
      "metadata": {
        "colab": {
          "base_uri": "https://localhost:8080/"
        },
        "id": "xmti7MYPCwhl",
        "outputId": "b7f92e4d-da37-46dd-d0ad-c5c0cf79f3b8"
      },
      "execution_count": 181,
      "outputs": [
        {
          "output_type": "execute_result",
          "data": {
            "text/plain": [
              "['Licat']"
            ]
          },
          "metadata": {},
          "execution_count": 181
        }
      ]
    },
    {
      "cell_type": "code",
      "source": [
        "soulution([['Gray', 98, 92, 85, 97], ['Gom', 98, 30, 21, 60], ['Allosa', 98, 90, 99, 98]])"
      ],
      "metadata": {
        "colab": {
          "base_uri": "https://localhost:8080/"
        },
        "id": "6wZVece5Ek11",
        "outputId": "a01a4b19-ae5c-4f95-9ff7-8649780b8316"
      },
      "execution_count": 182,
      "outputs": [
        {
          "output_type": "execute_result",
          "data": {
            "text/plain": [
              "['Allosa', 'Gray']"
            ]
          },
          "metadata": {},
          "execution_count": 182
        }
      ]
    }
  ]
}