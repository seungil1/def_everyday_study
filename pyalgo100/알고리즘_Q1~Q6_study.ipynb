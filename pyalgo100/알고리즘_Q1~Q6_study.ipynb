{
  "nbformat": 4,
  "nbformat_minor": 0,
  "metadata": {
    "colab": {
      "provenance": []
    },
    "kernelspec": {
      "name": "python3",
      "display_name": "Python 3"
    },
    "language_info": {
      "name": "python"
    }
  },
  "cells": [
    {
      "cell_type": "code",
      "execution_count": 9,
      "metadata": {
        "id": "TQxELyYXQ6A8"
      },
      "outputs": [],
      "source": [
        "def solution(data):\n",
        "    result = []\n",
        "    for i in data:\n",
        "        if i % 2 != 0:\n",
        "            result.append(i)\n",
        "    return sum(result)\n",
        "\n",
        "\n",
        ""
      ]
    },
    {
      "cell_type": "code",
      "source": [
        "solution([1, 2, 3, 4, 5])"
      ],
      "metadata": {
        "colab": {
          "base_uri": "https://localhost:8080/"
        },
        "id": "UiYz1D7iRB88",
        "outputId": "c3af5f00-55e5-41cc-9ae8-d6c80d3c60bf"
      },
      "execution_count": 10,
      "outputs": [
        {
          "output_type": "execute_result",
          "data": {
            "text/plain": [
              "9"
            ]
          },
          "metadata": {},
          "execution_count": 10
        }
      ]
    },
    {
      "cell_type": "code",
      "source": [
        "def 곱셈(l):\n",
        "    result = 1\n",
        "    for i in l:\n",
        "        result *= i\n",
        "\n",
        "    return result"
      ],
      "metadata": {
        "id": "N6_ZFcD_h2DW"
      },
      "execution_count": 21,
      "outputs": []
    },
    {
      "cell_type": "code",
      "source": [
        "곱셈([1, 2, 3, 4, 5])"
      ],
      "metadata": {
        "colab": {
          "base_uri": "https://localhost:8080/"
        },
        "id": "UBgtGeYMh3e-",
        "outputId": "d96c449e-ed6d-41f9-ec88-57580b222c9c"
      },
      "execution_count": 22,
      "outputs": [
        {
          "output_type": "execute_result",
          "data": {
            "text/plain": [
              "120"
            ]
          },
          "metadata": {},
          "execution_count": 22
        }
      ]
    },
    {
      "cell_type": "code",
      "source": [
        "def solution(data):\n",
        "\n",
        "    return sum(filter(lambda x : not(x % 3 == 0 or x % 5==0),data))\n",
        "\n",
        "solution([1, 2, 3, 4, 5])"
      ],
      "metadata": {
        "colab": {
          "base_uri": "https://localhost:8080/"
        },
        "id": "0hSafO9klxT8",
        "outputId": "0f7413a6-22ff-4f09-b74f-f7c4df9a08a8"
      },
      "execution_count": 33,
      "outputs": [
        {
          "output_type": "execute_result",
          "data": {
            "text/plain": [
              "7"
            ]
          },
          "metadata": {},
          "execution_count": 33
        }
      ]
    },
    {
      "cell_type": "code",
      "source": [
        "def solution(data):\n",
        "    return sum(filter(lambda x : not(x % 2 ==0)),data)"
      ],
      "metadata": {
        "id": "U_C_3zU1ogoL"
      },
      "execution_count": 34,
      "outputs": []
    },
    {
      "cell_type": "code",
      "source": [
        "def solution(data):\n",
        "    num_list = []\n",
        "    for i in data:\n",
        "        s =int(i.split(\" \")[1].replace(\"개\",\" \"))\n",
        "        num_list.append(s)\n",
        "\n",
        "    return num_list[0] * 1 + num_list[1] * 2 + num_list[2] * 3\n",
        "\n",
        "\n",
        ""
      ],
      "metadata": {
        "id": "KmVw4NAkGa9J"
      },
      "execution_count": 48,
      "outputs": []
    },
    {
      "cell_type": "code",
      "source": [
        "solution(['쿠키 3개', '쿠키 2개', '쿠키 5개'])"
      ],
      "metadata": {
        "colab": {
          "base_uri": "https://localhost:8080/"
        },
        "id": "vQgrp2qzHRoZ",
        "outputId": "2dcf315a-4925-45e4-ebfa-eb302721b768"
      },
      "execution_count": 49,
      "outputs": [
        {
          "output_type": "execute_result",
          "data": {
            "text/plain": [
              "22"
            ]
          },
          "metadata": {},
          "execution_count": 49
        }
      ]
    },
    {
      "cell_type": "code",
      "source": [
        "def solution(data):\n",
        "    result = 0\n",
        "\n",
        "    for idx, i in enumerate(data):\n",
        "        number = int(i.split(\" \")[1].replace(\"개\", \" \"))\n",
        "\n",
        "        result += number * (idx+1)\n",
        "\n",
        "    return result\n",
        ""
      ],
      "metadata": {
        "id": "9WBPxcJ6KGsI"
      },
      "execution_count": 74,
      "outputs": []
    },
    {
      "cell_type": "code",
      "source": [
        "solution(['쿠키 3개', '쿠키 2개', '쿠키 5개'])"
      ],
      "metadata": {
        "colab": {
          "base_uri": "https://localhost:8080/"
        },
        "id": "6K5lJw5zKRpA",
        "outputId": "d018fbe1-81d6-4bdc-8225-9f8effc75294"
      },
      "execution_count": 75,
      "outputs": [
        {
          "output_type": "execute_result",
          "data": {
            "text/plain": [
              "22"
            ]
          },
          "metadata": {},
          "execution_count": 75
        }
      ]
    },
    {
      "cell_type": "code",
      "source": [
        "def solution(data):\n",
        "    count =0\n",
        "    for i in str(data):\n",
        "        if i == \"1\":\n",
        "            count += 1\n",
        "\n",
        "    return count"
      ],
      "metadata": {
        "id": "l-xGkGyAP5gd"
      },
      "execution_count": 83,
      "outputs": []
    },
    {
      "cell_type": "code",
      "source": [
        "solution([1, 11, 111, 1111])"
      ],
      "metadata": {
        "colab": {
          "base_uri": "https://localhost:8080/"
        },
        "id": "dTPjd29kP4h1",
        "outputId": "325c242b-cd20-4b0c-9b59-c1d5feea8311"
      },
      "execution_count": 84,
      "outputs": [
        {
          "output_type": "execute_result",
          "data": {
            "text/plain": [
              "10"
            ]
          },
          "metadata": {},
          "execution_count": 84
        }
      ]
    },
    {
      "cell_type": "code",
      "source": [
        "def solution(data):\n",
        "\n",
        "    return ''.join(map(str, data)).count('1')"
      ],
      "metadata": {
        "id": "fD_7_YBdRGFN"
      },
      "execution_count": 89,
      "outputs": []
    },
    {
      "cell_type": "code",
      "source": [
        "solution([1, 11, 111, 1111])"
      ],
      "metadata": {
        "colab": {
          "base_uri": "https://localhost:8080/",
          "height": 35
        },
        "id": "pSfBEsXzROC1",
        "outputId": "a28a22cb-38ce-450c-9c2f-03535eeed6d2"
      },
      "execution_count": 88,
      "outputs": [
        {
          "output_type": "execute_result",
          "data": {
            "text/plain": [
              "'1111111111'"
            ],
            "application/vnd.google.colaboratory.intrinsic+json": {
              "type": "string"
            }
          },
          "metadata": {},
          "execution_count": 88
        }
      ]
    },
    {
      "cell_type": "code",
      "source": [
        "\n",
        "def solution(data):\n",
        "    result = []\n",
        "    for i in data:\n",
        "        if i.isdigit():\n",
        "            result.append(int(i))\n",
        "\n",
        "    return sum(result)\n",
        "\n",
        "\n",
        ""
      ],
      "metadata": {
        "id": "enruW16aToZ0"
      },
      "execution_count": 131,
      "outputs": []
    },
    {
      "cell_type": "code",
      "source": [
        "def solution(data):\n",
        "\n",
        "    return sum(map(int,(filter(str.isdigit, data))))"
      ],
      "metadata": {
        "id": "hDaRjLG4W4I0"
      },
      "execution_count": 143,
      "outputs": []
    },
    {
      "cell_type": "code",
      "source": [
        "solution('1hel2lo3')"
      ],
      "metadata": {
        "colab": {
          "base_uri": "https://localhost:8080/"
        },
        "id": "SNilK9zrT0gs",
        "outputId": "2aeaaf4e-e99c-49cc-dc76-53efc561a18c"
      },
      "execution_count": 144,
      "outputs": [
        {
          "output_type": "execute_result",
          "data": {
            "text/plain": [
              "6"
            ]
          },
          "metadata": {},
          "execution_count": 144
        }
      ]
    }
  ]
}