{
  "nbformat": 4,
  "nbformat_minor": 0,
  "metadata": {
    "colab": {
      "provenance": []
    },
    "kernelspec": {
      "name": "python3",
      "display_name": "Python 3"
    },
    "language_info": {
      "name": "python"
    }
  },
  "cells": [
    {
      "cell_type": "markdown",
      "source": [
        "# Q11"
      ],
      "metadata": {
        "id": "7euTYDm7zSoT"
      }
    },
    {
      "cell_type": "code",
      "execution_count": 32,
      "metadata": {
        "id": "XhGP5rEOxeuv"
      },
      "outputs": [],
      "source": [
        "\n",
        "def solution(data):\n",
        "\n",
        "    return sum([sum(x)>=240 for x in data])\n",
        "\n"
      ]
    },
    {
      "cell_type": "code",
      "source": [
        "solution([[98, 92, 85], [95, 32, 51], [98, 98, 51]])"
      ],
      "metadata": {
        "colab": {
          "base_uri": "https://localhost:8080/"
        },
        "id": "Bnkx8p3rxpi6",
        "outputId": "6c55f580-bdbb-40e4-d441-0cd28c6231c2"
      },
      "execution_count": 33,
      "outputs": [
        {
          "output_type": "execute_result",
          "data": {
            "text/plain": [
              "2"
            ]
          },
          "metadata": {},
          "execution_count": 33
        }
      ]
    },
    {
      "cell_type": "code",
      "source": [
        "def solution(l):\n",
        "    return len(list(filter(lambda x : x>240, (map(sum, l)))))"
      ],
      "metadata": {
        "id": "V9Pc5DHFz5yc"
      },
      "execution_count": 29,
      "outputs": []
    },
    {
      "cell_type": "code",
      "source": [
        "solution([[98, 92, 85], [95, 32, 51], [98, 98, 51]])"
      ],
      "metadata": {
        "colab": {
          "base_uri": "https://localhost:8080/"
        },
        "id": "3qQva8NI0BHM",
        "outputId": "897bca9e-f140-42a8-addd-23bc19da67eb"
      },
      "execution_count": 30,
      "outputs": [
        {
          "output_type": "execute_result",
          "data": {
            "text/plain": [
              "2"
            ]
          },
          "metadata": {},
          "execution_count": 30
        }
      ]
    },
    {
      "cell_type": "markdown",
      "source": [
        "# Q12"
      ],
      "metadata": {
        "id": "pzI93Ov_0rB7"
      }
    },
    {
      "cell_type": "code",
      "source": [
        "def solution(data):\n",
        "\n",
        "    return sorted(data[0], key=lambda x : data[1].get(x.split(' ')[1]))\n",
        "\n",
        "\n",
        "\n",
        "\n"
      ],
      "metadata": {
        "id": "-hn63p230s6r"
      },
      "execution_count": 89,
      "outputs": []
    },
    {
      "cell_type": "code",
      "source": [
        "solution([['제주시 A동 한라산길 61', '제주시 B동 백록담길 63', '제주시 C동 사라봉길 31'], {'A동': 63007, 'B동': 63010, 'C동': 63002}])"
      ],
      "metadata": {
        "colab": {
          "base_uri": "https://localhost:8080/"
        },
        "id": "qatqbOsy1KVj",
        "outputId": "d42cb6b2-2547-499d-9578-be6b4f5acb97"
      },
      "execution_count": 90,
      "outputs": [
        {
          "output_type": "execute_result",
          "data": {
            "text/plain": [
              "['제주시 C동 사라봉길 31', '제주시 A동 한라산길 61', '제주시 B동 백록담길 63']"
            ]
          },
          "metadata": {},
          "execution_count": 90
        }
      ]
    }
  ]
}